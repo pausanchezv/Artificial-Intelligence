{
 "cells": [
  {
   "cell_type": "markdown",
   "metadata": {
    "collapsed": false
   },
   "source": [
    "# Intel·ligència Artificial\n",
    "\n",
    "# Q-LEARNING - Joc de Cartes (Manera 1) {Perder}"
   ]
  },
  {
   "cell_type": "code",
   "execution_count": 28,
   "metadata": {
    "collapsed": true
   },
   "outputs": [],
   "source": [
    "#!/usr/bin/env python\n",
    "# -*- coding: utf-8 -*-\n",
    "\n",
    "__author__ = \"Pau Sanchez Valdivieso\"\n",
    "__email__ = \"pau@startval.com\"\n",
    "__date__ = \"4-1-2017\""
   ]
  },
  {
   "cell_type": "code",
   "execution_count": 29,
   "metadata": {
    "collapsed": true
   },
   "outputs": [],
   "source": [
    "# Declaracions\n",
    "\n",
    "gamma = 1\n",
    "alpha = 1\n",
    "\n",
    "states = range(6)\n",
    "\n",
    "alternate = 'P'\n",
    "q_values = {(S, A): 0 for S in states for A in (\"T\", \"P\")}"
   ]
  },
  {
   "cell_type": "code",
   "execution_count": 30,
   "metadata": {
    "collapsed": false
   },
   "outputs": [],
   "source": [
    "def get_next_card():\n",
    "    \"\"\" Vomita la següent carta i crea el generador\"\"\"\n",
    "    \n",
    "    game_sequence = (2, 3, 1, 2, 1, 3, 2, 2, 3, 2, 1, 2)\n",
    "    \n",
    "    for card in game_sequence:\n",
    "        yield card"
   ]
  },
  {
   "cell_type": "code",
   "execution_count": 31,
   "metadata": {
    "collapsed": false
   },
   "outputs": [],
   "source": [
    "def get_action(state):\n",
    "    \"\"\" Retorna l'acció segons la carta \"\"\"\n",
    "    \n",
    "    if state in {0, 1, 2}:\n",
    "        return 'T'\n",
    "    if state == 3:\n",
    "        global alternate\n",
    "        alternate = 'T' if alternate == 'P' else 'P'\n",
    "        return alternate\n",
    "    return 'P'"
   ]
  },
  {
   "cell_type": "code",
   "execution_count": 32,
   "metadata": {
    "collapsed": false
   },
   "outputs": [],
   "source": [
    "def get_best_QSA(state):\n",
    "    \"\"\" Retorna el millor futur QSA \"\"\"   \n",
    "    \n",
    "    try:\n",
    "        keys = filter(lambda x: state in x, q_values)\n",
    "        return q_values[max(keys, key=lambda x: q_values[x])]\n",
    "    except:\n",
    "        return 0"
   ]
  },
  {
   "cell_type": "code",
   "execution_count": 33,
   "metadata": {
    "collapsed": true
   },
   "outputs": [],
   "source": [
    "def update(QSA, state, reward):\n",
    "    \"\"\" Retorna el valor d'actualització \"\"\"\n",
    "    \n",
    "    max_QSA = get_best_QSA(state)\n",
    "    return QSA + alpha * (reward + gamma * max_QSA)"
   ]
  },
  {
   "cell_type": "code",
   "execution_count": 34,
   "metadata": {
    "collapsed": false
   },
   "outputs": [],
   "source": [
    "def calc_QSA_values(num_iterations):\n",
    "    \"\"\" Calcula els qValor a cada iteració \"\"\"\n",
    "\n",
    "    curr_state = 0\n",
    "    n_card = get_next_card()\n",
    "\n",
    "    for i in range(num_iterations):\n",
    "\n",
    "        action = get_action(curr_state)\n",
    "\n",
    "        if action == 'T':\n",
    "            card = n_card.next()\n",
    "            reward = 0\n",
    "            next_state = curr_state + card\n",
    "            q_values[(curr_state, action)] = update(q_values[(curr_state, action)], next_state, reward)\n",
    "\n",
    "        if action == 'P':\n",
    "            reward = curr_state * 2 if curr_state == 5 else curr_state\n",
    "            q_values[(curr_state, action)] = get_best_QSA(next_state) + reward\n",
    "            next_state = 0\n",
    "\n",
    "        curr_state = next_state if action == 'T' else 0\n",
    "            \n",
    "num_iterations = 15\n",
    "calc_QSA_values(num_iterations)"
   ]
  },
  {
   "cell_type": "code",
   "execution_count": 35,
   "metadata": {
    "collapsed": false
   },
   "outputs": [],
   "source": [
    "def get_ViS_values():\n",
    "    \"\"\" Calcula el Vi(S) i la millor política \"\"\"\n",
    "    \n",
    "    ViS_values = {}\n",
    "    argmax_policy = dict()\n",
    "    \n",
    "    for S in states:\n",
    "        array = [x for x in q_values.iteritems() if x[0][0] == S]\n",
    "        \n",
    "        argmax = max(array, key=lambda x: x[1])\n",
    "        ViS_values[S] = argmax[1]\n",
    "        \n",
    "        if array[0][1] == array[1][1]: \n",
    "            argmax_policy[S] = 'T, P'\n",
    "        else:\n",
    "            argmax_policy[S] = argmax[0][1]\n",
    "    \n",
    "    return ViS_values, argmax_policy"
   ]
  },
  {
   "cell_type": "code",
   "execution_count": 36,
   "metadata": {
    "collapsed": false
   },
   "outputs": [],
   "source": [
    "def result():\n",
    "    \"\"\" Crea els resultats per mostrar \"\"\"\n",
    "    \n",
    "    ViS, argmax = get_ViS_values()\n",
    "\n",
    "    res = \"\\n{}\\nQ-Valors finals\\n{}\".format(30 * '*', 30 * '*')\n",
    "    for key, QSA in sorted(q_values.iteritems(), key=lambda x: x[0]):\n",
    "        res += \"\\nQ{0} >> {1}\".format(key, QSA)\n",
    "\n",
    "    res += \"\\n\\n{}\\nVi(S) final de cada estat\\n{}\".format(30 * '*', 30 * '*')\n",
    "    for key, vis in ViS.iteritems():\n",
    "        res += \"\\nEstat: {0} >> Vi(S): {1}\".format(key, vis)\n",
    "\n",
    "    res += \"\\n\\n{}\\nPolítica final de cada estat\\n{}\".format(30 * '*', 30 * '*')\n",
    "    for key, arg in argmax.iteritems():\n",
    "        res += \"\\nEstat: {0} >> Política: {1}\".format(key, arg)\n",
    "        \n",
    "    return res"
   ]
  },
  {
   "cell_type": "code",
   "execution_count": 37,
   "metadata": {
    "collapsed": false
   },
   "outputs": [
    {
     "name": "stdout",
     "output_type": "stream",
     "text": [
      "\n",
      "******************************\n",
      "Q-Valors finals\n",
      "******************************\n",
      "Q(0, 'P') >> 0\n",
      "Q(0, 'T') >> 3\n",
      "Q(1, 'P') >> 0\n",
      "Q(1, 'T') >> 0\n",
      "Q(2, 'P') >> 0\n",
      "Q(2, 'T') >> 4\n",
      "Q(3, 'P') >> 3\n",
      "Q(3, 'T') >> 10\n",
      "Q(4, 'P') >> 8\n",
      "Q(4, 'T') >> 0\n",
      "Q(5, 'P') >> 20\n",
      "Q(5, 'T') >> 0\n",
      "\n",
      "******************************\n",
      "Vi(S) final de cada estat\n",
      "******************************\n",
      "Estat: 0 >> Vi(S): 3\n",
      "Estat: 1 >> Vi(S): 0\n",
      "Estat: 2 >> Vi(S): 4\n",
      "Estat: 3 >> Vi(S): 10\n",
      "Estat: 4 >> Vi(S): 8\n",
      "Estat: 5 >> Vi(S): 20\n",
      "\n",
      "******************************\n",
      "Política final de cada estat\n",
      "******************************\n",
      "Estat: 0 >> Política: T\n",
      "Estat: 1 >> Política: T, P\n",
      "Estat: 2 >> Política: T\n",
      "Estat: 3 >> Política: T\n",
      "Estat: 4 >> Política: P\n",
      "Estat: 5 >> Política: P\n"
     ]
    }
   ],
   "source": [
    "print result()"
   ]
  },
  {
   "cell_type": "code",
   "execution_count": null,
   "metadata": {
    "collapsed": true
   },
   "outputs": [],
   "source": []
  }
 ],
 "metadata": {
  "kernelspec": {
   "display_name": "Python [Root]",
   "language": "python",
   "name": "Python [Root]"
  },
  "language_info": {
   "codemirror_mode": {
    "name": "ipython",
    "version": 2
   },
   "file_extension": ".py",
   "mimetype": "text/x-python",
   "name": "python",
   "nbconvert_exporter": "python",
   "pygments_lexer": "ipython2",
   "version": "2.7.12"
  }
 },
 "nbformat": 4,
 "nbformat_minor": 0
}
